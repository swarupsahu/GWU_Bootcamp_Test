version https://git-lfs.github.com/spec/v1
oid sha256:a8bcb9ace2673751edb87370f80c70b4eba0e37366b747e49600a31ff4d35b11
size 68073
